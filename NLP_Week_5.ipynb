{
  "nbformat": 4,
  "nbformat_minor": 0,
  "metadata": {
    "colab": {
      "name": "NLP Week 5.ipynb",
      "provenance": []
    },
    "kernelspec": {
      "name": "python3",
      "display_name": "Python 3"
    }
  },
  "cells": [
    {
      "cell_type": "code",
      "metadata": {
        "id": "KgBc59BrRLB4"
      },
      "source": [
        "import nltk\n",
        "grammar = nltk.CFG.fromstring(\"\"\"\n",
        "  S -> NP VP\n",
        "  VP -> V NP | V NP PP\n",
        "  PP -> P NP\n",
        "  V -> \"saw\" | \"ate\" | \"walked\"\n",
        "  NP -> Prop | Det N | Det N PP\n",
        "  Prop -> \"John\" | \"Mary\" | \"Bob\" \n",
        "  Det -> \"a\" | \"an\" | \"the\" | \"my\"\n",
        "  N -> \"man\" | \"dog\" | \"cat\" | \"telescope\" | \"park\"\n",
        "  P -> \"in\" | \"on\" | \"by\" | \"with\"\n",
        "  \"\"\")"
      ],
      "execution_count": null,
      "outputs": []
    },
    {
      "cell_type": "code",
      "metadata": {
        "id": "nAbQqRsORify"
      },
      "source": [
        "# top-down method: recursive descent parsing\n",
        "# create the parser from a grammar\n",
        "rd_parser = nltk.RecursiveDescentParser(grammar)"
      ],
      "execution_count": null,
      "outputs": []
    },
    {
      "cell_type": "code",
      "metadata": {
        "id": "eOwVP_LjRk6z",
        "colab": {
          "base_uri": "https://localhost:8080/"
        },
        "outputId": "67679cb8-7397-4ee0-b02e-3b239fdd5fae"
      },
      "source": [
        "# make an example sentence text\n",
        "senttext = \"Mary saw Bob\"\n",
        "# tokenize the sentence by splitting on white space\n",
        "#      use nltk.word_tokenize() for more complex example sentences\n",
        "sentlist = senttext.split()\n",
        "print(sentlist)\n"
      ],
      "execution_count": null,
      "outputs": [
        {
          "output_type": "stream",
          "text": [
            "['Mary', 'saw', 'Bob']\n"
          ],
          "name": "stdout"
        }
      ]
    },
    {
      "cell_type": "code",
      "metadata": {
        "id": "jUoh_FHFRm77",
        "colab": {
          "base_uri": "https://localhost:8080/"
        },
        "outputId": "d25f1fde-7f2b-4349-d8d9-c4805d22722d"
      },
      "source": [
        "# run the parse function on the list of tokens\n",
        "trees = rd_parser.parse(sentlist)\n",
        "# convert the generator to a list\n",
        "treelist = list(trees)\n",
        "# what type is an individual tree?\n",
        "print(type(treelist[0]))\n",
        "# print the tree structures\n",
        "for tree in treelist:\n",
        "\tprint (tree)\n"
      ],
      "execution_count": null,
      "outputs": [
        {
          "output_type": "stream",
          "text": [
            "<class 'nltk.tree.Tree'>\n",
            "(S (NP (Prop Mary)) (VP (V saw) (NP (Prop Bob))))\n"
          ],
          "name": "stdout"
        }
      ]
    },
    {
      "cell_type": "code",
      "metadata": {
        "id": "LatpVXzXRq4X",
        "colab": {
          "base_uri": "https://localhost:8080/"
        },
        "outputId": "0bfa5583-947f-4ffa-996a-129dcb2f8515"
      },
      "source": [
        "\n",
        "# try an ambiguous sentence\n",
        "sent2list = \"John saw the man in the park with a telescope\".split()\n",
        "for tree in rd_parser.parse(sent2list):\n",
        "\tprint (tree)\n"
      ],
      "execution_count": null,
      "outputs": [
        {
          "output_type": "stream",
          "text": [
            "(S\n",
            "  (NP (Prop John))\n",
            "  (VP\n",
            "    (V saw)\n",
            "    (NP\n",
            "      (Det the)\n",
            "      (N man)\n",
            "      (PP\n",
            "        (P in)\n",
            "        (NP\n",
            "          (Det the)\n",
            "          (N park)\n",
            "          (PP (P with) (NP (Det a) (N telescope))))))))\n",
            "(S\n",
            "  (NP (Prop John))\n",
            "  (VP\n",
            "    (V saw)\n",
            "    (NP (Det the) (N man))\n",
            "    (PP\n",
            "      (P in)\n",
            "      (NP\n",
            "        (Det the)\n",
            "        (N park)\n",
            "        (PP (P with) (NP (Det a) (N telescope)))))))\n",
            "(S\n",
            "  (NP (Prop John))\n",
            "  (VP\n",
            "    (V saw)\n",
            "    (NP (Det the) (N man) (PP (P in) (NP (Det the) (N park))))\n",
            "    (PP (P with) (NP (Det a) (N telescope)))))\n"
          ],
          "name": "stdout"
        }
      ]
    },
    {
      "cell_type": "code",
      "metadata": {
        "id": "pZv4SioLRtYf"
      },
      "source": [
        "# extend the grammar with more words (I, elephant, pajamas)\n",
        "groucho_grammar = nltk.CFG.fromstring(\"\"\"\n",
        "  S -> NP VP\n",
        "  VP -> V NP | V NP PP\n",
        "  PP -> P NP\n",
        "  V -> \"saw\" | \"ate\" | \"walked\" | \"shot\"\n",
        "  NP -> Prop | Det N | Det N PP\n",
        "  Prop -> \"John\" | \"Mary\" | \"Bob\" | \"I\"\n",
        "  Det -> \"a\" | \"an\" | \"the\" | \"my\"\n",
        "  N -> \"man\" | \"dog\" | \"cat\" | \"telescope\" | \"park\" | \"elephant\" | \"pajamas\"\n",
        "  P -> \"in\" | \"on\" | \"by\" | \"with\"\n",
        "  \"\"\")\n"
      ],
      "execution_count": null,
      "outputs": []
    },
    {
      "cell_type": "code",
      "metadata": {
        "id": "sN625E3CRv3k",
        "colab": {
          "base_uri": "https://localhost:8080/"
        },
        "outputId": "3593360b-2d7e-4720-de42-1965951a4ab2"
      },
      "source": [
        "# if we change the grammar, we create a new parser\n",
        "rd_parser = nltk.RecursiveDescentParser(groucho_grammar)\n",
        "\n",
        "# try sent4 with the recursive descent parser on groucho grammar\n",
        "sent4list = \"I shot an elephant in my pajamas\".split()\n",
        "for tree in rd_parser.parse(sent4list):\n",
        "\tprint (tree)\n"
      ],
      "execution_count": null,
      "outputs": [
        {
          "output_type": "stream",
          "text": [
            "(S\n",
            "  (NP (Prop I))\n",
            "  (VP\n",
            "    (V shot)\n",
            "    (NP (Det an) (N elephant) (PP (P in) (NP (Det my) (N pajamas))))))\n",
            "(S\n",
            "  (NP (Prop I))\n",
            "  (VP\n",
            "    (V shot)\n",
            "    (NP (Det an) (N elephant))\n",
            "    (PP (P in) (NP (Det my) (N pajamas)))))\n"
          ],
          "name": "stdout"
        }
      ]
    },
    {
      "cell_type": "code",
      "metadata": {
        "id": "UXwu6XeDRyMq"
      },
      "source": [
        "# extend the grammar for the flight grammar:  adding a rule to S and some words\n",
        "flight_grammar = nltk.CFG.fromstring(\"\"\"\n",
        "  S -> NP VP | VP\n",
        "  VP -> V NP | V NP PP\n",
        "  PP -> P NP\n",
        "  V -> \"saw\" | \"ate\" | \"walked\" | \"shot\" | \"book\"\n",
        "  NP -> Prop | Det N | Det N PP\n",
        "  Prop -> \"John\" | \"Mary\" | \"Bob\" | \"I\"\n",
        "  Det -> \"a\" | \"an\" | \"the\" | \"my\" | \"that\"\n",
        "  N -> \"man\" | \"dog\" | \"cat\" | \"telescope\" | \"park\" | \"elephant\" | \"pajamas\" | \"flight\"\n",
        "  P -> \"in\" | \"on\" | \"by\" | \"with\"\n",
        "  \"\"\")\n"
      ],
      "execution_count": null,
      "outputs": []
    },
    {
      "cell_type": "code",
      "metadata": {
        "id": "MGxwIwJVRz38",
        "colab": {
          "base_uri": "https://localhost:8080/"
        },
        "outputId": "9f9fa1f6-81df-4128-f166-b36947068995"
      },
      "source": [
        "# make a recursive descent parser and parse the sentence\n",
        "rd_parser = nltk.RecursiveDescentParser(flight_grammar)\n",
        "sent5list = 'book that flight'.split()\n",
        "for tree in rd_parser.parse(sent5list):\n",
        "\tprint (tree)"
      ],
      "execution_count": null,
      "outputs": [
        {
          "output_type": "stream",
          "text": [
            "(S (VP (V book) (NP (Det that) (N flight))))\n"
          ],
          "name": "stdout"
        }
      ]
    },
    {
      "cell_type": "code",
      "metadata": {
        "id": "rU9Bnk4ER2Yu"
      },
      "source": [
        "## Probabilistic CFG with verb subcategories\n",
        "#    for transitive (TranV), intransitive (InV) and dative (DatV) verbs\n",
        "prob_grammar = nltk.PCFG.fromstring(\"\"\"\n",
        "  S -> NP VP [0.9]| VP  [0.1]\n",
        "  VP -> TranV NP [0.3]\n",
        "  VP -> InV  [0.3]\n",
        "  VP -> DatV NP PP  [0.4]\n",
        "  PP -> P NP   [1.0]\n",
        "  TranV -> \"saw\" [0.2] | \"ate\" [0.2] | \"walked\" [0.2] | \"shot\" [0.2] | \"book\" [0.2]\n",
        "  InV -> \"ate\" [0.5] | \"walked\" [0.5]\n",
        "  DatV -> \"gave\" [0.2] | \"ate\" [0.2] | \"saw\" [0.2] | \"walked\" [0.2] | \"shot\" [0.2]\n",
        "  NP -> Prop [0.2]| Det N [0.4] | Det N PP [0.4]\n",
        "  Prop -> \"John\" [0.25]| \"Mary\" [0.25] | \"Bob\" [0.25] | \"I\" [0.25] \n",
        "  Det -> \"a\" [0.2] | \"an\" [0.2] | \"the\" [0.2] | \"my\" [0.2] | \"that\" [0.2]\n",
        "  N -> \"man\" [0.15] | \"dog\" [0.15] | \"cat\" [0.15] | \"park\" [0.15] | \"telescope\" [0.1] | \"flight\" [0.1] | \"elephant\" [0.1] | \"pajamas\" [0.1]\n",
        "  P -> \"in\" [0.2] | \"on\" [0.2] | \"by\" [0.2] | \"with\" [0.2] | \"through\" [0.2]\n",
        "  \"\"\")\n"
      ],
      "execution_count": null,
      "outputs": []
    },
    {
      "cell_type": "code",
      "metadata": {
        "id": "pT498KiuR5ID",
        "colab": {
          "base_uri": "https://localhost:8080/"
        },
        "outputId": "973ef055-6fe4-4a4e-dfa5-7aba8e3db1c2"
      },
      "source": [
        "# create a viterbi parser, a parser that expects a PCFG\n",
        "viterbi_parser = nltk.ViterbiParser(prob_grammar)\n",
        "# use its parse function on a list of tokens\n",
        "for tree in viterbi_parser.parse(['John', 'saw', 'a', 'telescope']):\n",
        "    print (tree)\n"
      ],
      "execution_count": null,
      "outputs": [
        {
          "output_type": "stream",
          "text": [
            "(S\n",
            "  (NP (Prop John))\n",
            "  (VP (TranV saw) (NP (Det a) (N telescope)))) (p=2.16e-05)\n"
          ],
          "name": "stdout"
        }
      ]
    },
    {
      "cell_type": "code",
      "metadata": {
        "id": "4wIF5nHrR7g8",
        "colab": {
          "base_uri": "https://localhost:8080/"
        },
        "outputId": "af70e187-3fc6-4a24-a38c-37715dc75bbd"
      },
      "source": [
        "# parse some other sentences\n",
        "# this parser chooses to return the highest probability tree\n",
        "for tree in viterbi_parser.parse(sent2list):\n",
        "    print (tree)\n",
        "\n",
        "for tree in viterbi_parser.parse(sent4list):\n",
        "    print (tree)\n"
      ],
      "execution_count": null,
      "outputs": [
        {
          "output_type": "stream",
          "text": [
            "(S\n",
            "  (NP (Prop John))\n",
            "  (VP\n",
            "    (DatV saw)\n",
            "    (NP\n",
            "      (Det the)\n",
            "      (N man)\n",
            "      (PP (P in) (NP (Det the) (N park))))\n",
            "    (PP (P with) (NP (Det a) (N telescope))))) (p=1.65888e-10)\n",
            "(S\n",
            "  (NP (Prop I))\n",
            "  (VP\n",
            "    (DatV shot)\n",
            "    (NP (Det an) (N elephant))\n",
            "    (PP (P in) (NP (Det my) (N pajamas))))) (p=4.608e-08)\n"
          ],
          "name": "stdout"
        }
      ]
    },
    {
      "cell_type": "code",
      "metadata": {
        "id": "a31GiG96R9_U",
        "colab": {
          "base_uri": "https://localhost:8080/"
        },
        "outputId": "e8b51efc-d358-48da-e86c-c2efffd40b75"
      },
      "source": [
        "## Look at Dependency grammars in the NLTK book, section 8.5\n",
        "# a dependency grammar for the groucho example\n",
        "# note difficulty of writing rules for every word dependency\n",
        "groucho_dep_grammar = nltk.DependencyGrammar.fromstring(\"\"\"\n",
        "  'shot' -> 'I' | 'elephant' | 'in'\n",
        "  'elephant' -> 'an' | 'in'\n",
        "  'in' -> 'pajamas'\n",
        "  'pajamas' -> 'my'\n",
        "  \"\"\")\n",
        "print (groucho_dep_grammar)\n"
      ],
      "execution_count": null,
      "outputs": [
        {
          "output_type": "stream",
          "text": [
            "Dependency grammar with 7 productions\n",
            "  'shot' -> 'I'\n",
            "  'shot' -> 'elephant'\n",
            "  'shot' -> 'in'\n",
            "  'elephant' -> 'an'\n",
            "  'elephant' -> 'in'\n",
            "  'in' -> 'pajamas'\n",
            "  'pajamas' -> 'my'\n"
          ],
          "name": "stdout"
        }
      ]
    },
    {
      "cell_type": "code",
      "metadata": {
        "id": "S80SUxwRSAYe",
        "colab": {
          "base_uri": "https://localhost:8080/"
        },
        "outputId": "0891d801-5125-4a8b-fcef-a0c927b225be"
      },
      "source": [
        "# create a dependency parser, assumes sentence is projective\n",
        "pdp = nltk.ProjectiveDependencyParser(groucho_dep_grammar)\n",
        "glist = 'I shot an elephant in my pajamas'.split()\n",
        "# use the parse function to parse a list of tokens\n",
        "trees = pdp.parse(glist)\n",
        "for tree in trees:\n",
        "    print (tree)\n",
        "\n"
      ],
      "execution_count": null,
      "outputs": [
        {
          "output_type": "stream",
          "text": [
            "(shot I (elephant an (in (pajamas my))))\n",
            "(shot I (elephant an) (in (pajamas my)))\n"
          ],
          "name": "stdout"
        }
      ]
    },
    {
      "cell_type": "markdown",
      "metadata": {
        "id": "VdOwfV-wSn5v"
      },
      "source": [
        "Lab Week 5 (5.6) Part 3"
      ]
    },
    {
      "cell_type": "code",
      "metadata": {
        "id": "elSQ1NzrSsRR"
      },
      "source": [
        "# Define sentences for the question\n",
        "sentex1 = \"I prefer a flight through Houston\".split()\n",
        "sentex2 = \"Jack walked with the dog\".split()\n",
        "sentex3 = \"John gave the dog a bone\".split()\n",
        "sentex4 = \"I want to book that flight\".split()\n"
      ],
      "execution_count": null,
      "outputs": []
    },
    {
      "cell_type": "code",
      "metadata": {
        "id": "wzSMh-K_SwkH"
      },
      "source": [
        "# extend the flight grammar:\n",
        "flight_grammar = nltk.CFG.fromstring(\"\"\"\n",
        "  S -> NP VP | VP\n",
        "  VP -> V NP | V NP PP | V PP | V NP NP | V V NP\n",
        "  PP -> P NP\n",
        "  V -> \"saw\" | \"ate\" | \"walked\" | \"shot\" | \"book\" | \"prefer\" | \"gave\" | \"want\" | \"book\" | P V\n",
        "  NP -> Prop | Det N | Det N PP | N Det N \n",
        "  Prop -> \"John\" | \"Mary\" | \"Bob\" | \"I\" | \"Houston\" | \"Jack\"\n",
        "  Det -> \"a\" | \"an\" | \"the\" | \"my\" | \"that\" \n",
        "  N -> \"man\" | \"dog\" | \"cat\" | \"telescope\" | \"park\" | \"elephant\" | \"pajamas\" | \"flight\" | \"bone\"\n",
        "  P -> \"in\" | \"on\" | \"by\" | \"to\" | \"through\" | \"with\" \n",
        "  \"\"\")"
      ],
      "execution_count": null,
      "outputs": []
    },
    {
      "cell_type": "code",
      "metadata": {
        "id": "4OzbDX4jSzoK",
        "colab": {
          "base_uri": "https://localhost:8080/"
        },
        "outputId": "c5884cb1-0519-4ca5-82a9-f931c664e36c"
      },
      "source": [
        "# redefine rd_parser when you change the flight grammar\n",
        "rd_parser = nltk.RecursiveDescentParser(flight_grammar)\n",
        "for tree in rd_parser.parse(sentex1):   print (tree)"
      ],
      "execution_count": null,
      "outputs": [
        {
          "output_type": "stream",
          "text": [
            "(S\n",
            "  (NP (Prop I))\n",
            "  (VP\n",
            "    (V prefer)\n",
            "    (NP (Det a) (N flight) (PP (P through) (NP (Prop Houston))))))\n",
            "(S\n",
            "  (NP (Prop I))\n",
            "  (VP\n",
            "    (V prefer)\n",
            "    (NP (Det a) (N flight))\n",
            "    (PP (P through) (NP (Prop Houston)))))\n"
          ],
          "name": "stdout"
        }
      ]
    },
    {
      "cell_type": "code",
      "metadata": {
        "id": "zGUA6rwWXTC3",
        "colab": {
          "base_uri": "https://localhost:8080/"
        },
        "outputId": "2bc00e96-f421-46f5-b762-f846e1899a04"
      },
      "source": [
        "# redefine rd_parser when you change the flight grammar\n",
        "rd_parser = nltk.RecursiveDescentParser(flight_grammar)\n",
        "for tree in rd_parser.parse(sentex2):   print (tree)"
      ],
      "execution_count": null,
      "outputs": [
        {
          "output_type": "stream",
          "text": [
            "(S\n",
            "  (NP (Prop Jack))\n",
            "  (VP (V walked) (PP (P with) (NP (Det the) (N dog)))))\n"
          ],
          "name": "stdout"
        }
      ]
    },
    {
      "cell_type": "code",
      "metadata": {
        "id": "aOVRIwStXVNf",
        "colab": {
          "base_uri": "https://localhost:8080/"
        },
        "outputId": "f2d08af6-fd42-40a6-c5bb-92cc25800b98"
      },
      "source": [
        "# redefine rd_parser when you change the flight grammar\n",
        "rd_parser = nltk.RecursiveDescentParser(flight_grammar)\n",
        "for tree in rd_parser.parse(sentex3):   print (tree)"
      ],
      "execution_count": null,
      "outputs": [
        {
          "output_type": "stream",
          "text": [
            "(S\n",
            "  (NP (Prop John))\n",
            "  (VP (V gave) (NP (Det the) (N dog)) (NP (Det a) (N bone))))\n"
          ],
          "name": "stdout"
        }
      ]
    },
    {
      "cell_type": "code",
      "metadata": {
        "id": "RxIr4aeZXWy1",
        "colab": {
          "base_uri": "https://localhost:8080/"
        },
        "outputId": "e625a6f2-230a-4a49-9ba0-2f1e3c40ec92"
      },
      "source": [
        "# redefine rd_parser when you change the flight grammar\n",
        "rd_parser = nltk.RecursiveDescentParser(flight_grammar)\n",
        "for tree in rd_parser.parse(sentex4):   print (tree)"
      ],
      "execution_count": null,
      "outputs": [
        {
          "output_type": "stream",
          "text": [
            "(S\n",
            "  (NP (Prop I))\n",
            "  (VP (V want) (V (P to) (V book)) (NP (Det that) (N flight))))\n",
            "(S\n",
            "  (NP (Prop I))\n",
            "  (VP (V want) (V (P to) (V book)) (NP (Det that) (N flight))))\n"
          ],
          "name": "stdout"
        }
      ]
    },
    {
      "cell_type": "markdown",
      "metadata": {
        "id": "5fKIm-eDYg-n"
      },
      "source": [
        "Lab 5 Part 6: Probabalistic CFG and Verb Categories"
      ]
    },
    {
      "cell_type": "code",
      "metadata": {
        "id": "oTGWUIlrYlOa"
      },
      "source": [
        ""
      ],
      "execution_count": null,
      "outputs": []
    }
  ]
}