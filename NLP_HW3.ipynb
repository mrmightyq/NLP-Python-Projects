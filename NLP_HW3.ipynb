{
  "nbformat": 4,
  "nbformat_minor": 0,
  "metadata": {
    "colab": {
      "name": "NLP HW3.ipynb",
      "provenance": []
    },
    "kernelspec": {
      "name": "python3",
      "display_name": "Python 3"
    }
  },
  "cells": [
    {
      "cell_type": "code",
      "metadata": {
        "id": "od85nG3qWwsT",
        "colab": {
          "base_uri": "https://localhost:8080/"
        },
        "outputId": "7fecec3c-ca2c-4c39-c0d8-f3fbd8829953"
      },
      "source": [
        "import nltk\n",
        "nltk.download('content')"
      ],
      "execution_count": 3,
      "outputs": [
        {
          "output_type": "stream",
          "text": [
            "[nltk_data] Error loading content: Package 'content' not found in\n",
            "[nltk_data]     index\n"
          ],
          "name": "stdout"
        },
        {
          "output_type": "execute_result",
          "data": {
            "text/plain": [
              "False"
            ]
          },
          "metadata": {
            "tags": []
          },
          "execution_count": 3
        }
      ]
    },
    {
      "cell_type": "code",
      "metadata": {
        "id": "Ty_q50VFWsoV"
      },
      "source": [
        "# read the sentences from the file sentences.txt\n",
        "sentfile = open('/content/Exemplar Sentences beta.txt', 'r')\n",
        "# make a list of sentences, separating the tokens by white space.\n",
        "sentence_list = []\n",
        "for line in sentfile:\n",
        "    sentence_list.append(line.split())\n"
      ],
      "execution_count": 26,
      "outputs": []
    },
    {
      "cell_type": "code",
      "metadata": {
        "id": "oGEqsoSoQdoZ"
      },
      "source": [
        "# read the grammar file - the nltk data function load will not reload\n",
        "#    the file unless you set the cache to be False\n",
        "camg = nltk.data.load('/content/camelot_grammar2.cfg', cache=False)"
      ],
      "execution_count": 27,
      "outputs": []
    },
    {
      "cell_type": "code",
      "metadata": {
        "id": "RLBjziiBQf1n",
        "colab": {
          "base_uri": "https://localhost:8080/"
        },
        "outputId": "643de0e3-d40c-48a9-dd4b-11b1cb0a1699"
      },
      "source": [
        "# create a recursive descent parser\n",
        "cam_parser = nltk.RecursiveDescentParser(camg)\n",
        "\n",
        "# for each sentence print it and its parse trees\n",
        "# if the grammar cannot parse a sentence, sometimes it gives an error and\n",
        "#    sometimes it just goes on to the next sentence with no parse tree\n",
        "for sent in sentence_list:\n",
        "    print(sent)\n",
        "    for tree in cam_parser.parse(sent):\n",
        "        print (tree)"
      ],
      "execution_count": 28,
      "outputs": [
        {
          "output_type": "stream",
          "text": [
            "['at', 'the', 'Round_Table', '.']\n",
            "['may', 'not', 'speak']\n"
          ],
          "name": "stdout"
        }
      ]
    }
  ]
}